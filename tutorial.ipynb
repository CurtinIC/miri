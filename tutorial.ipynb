{
 "cells": [
  {
   "cell_type": "markdown",
   "metadata": {},
   "source": [
    "# Fireball detection"
   ]
  },
  {
   "cell_type": "markdown",
   "metadata": {},
   "source": [
    "## 1. Introduction"
   ]
  },
  {
   "cell_type": "markdown",
   "metadata": {},
   "source": [
    "This notebook walks through how to develop a workflow for generating synthetic data and training a machine learning model to detect meteors from images.\n",
    "\n",
    "This tutorial has been prepared by:\n",
    "- [Andrew Rohl](http://computation.curtin.edu.au/about/steering-committee/director/)\n",
    "- [Kevin Chai](http://computation.curtin.edu.au/about/computational-specialists/health-sciences/)\n",
    "- [Shiv Meka](http://computation.curtin.edu.au/about/computational-specialists/humanities/)\n",
    "\n",
    "from the [Curtin Institute for Computation](http://computation.curtin.edu.au) at Curtin University in Perth, Australia."
   ]
  },
  {
   "cell_type": "markdown",
   "metadata": {},
   "source": [
    "## 2. Project"
   ]
  },
  {
   "cell_type": "markdown",
   "metadata": {},
   "source": [
    "### Background\n",
    "\n",
    "The Curtin Institute for Computation was asked to develop a machine learning model to detect meteor trails (fireballs) by researchers from the [Curtin Institute for Radio Astronomy](http://astronomy.curtin.edu.au/) ([ICRAR](https://www.icrar.org/) - Curtin University node) from images of the night sky captured in the Australian desert by the [Desert Fireball Network](http://fireballsinthesky.com.au/). \n",
    "\n",
    "![Fireballs](images/desert_fireball_network.png)\n",
    "\n",
    "<div style=\"text-align:center;font-weight:bold\">Figure: Desert Fireball Network camera locations</div>\n",
    "\n",
    "The objective of the project is to find these meteors in optical images and to compare against the radio emissions recorded at the same time and location by the [Murchison Widefield Array](http://www.mwatelescope.org)."
   ]
  },
  {
   "cell_type": "markdown",
   "metadata": {},
   "source": [
    "### Team\n",
    "\n",
    "*Curtin Institute for Radio Astronomy (CIRA)*\n",
    "* Paul Hancock\n",
    "* Xiang Zhang\n",
    "* Sean Mattingley\n",
    "* Steven Tingay\n",
    "* Randall Wayth\n",
    "\n",
    "*Desert Fireball Network*\n",
    "* Hadrien Devillepoix\n",
    "* Phil Bland\n",
    "\n",
    "*Curtin Institute for Computation*\n",
    "* Shiv Meka\n",
    "* Kevin Chai"
   ]
  },
  {
   "cell_type": "markdown",
   "metadata": {},
   "source": [
    "## 3. Data preparation"
   ]
  },
  {
   "cell_type": "markdown",
   "metadata": {},
   "source": [
    "#### Dataset\n",
    "\n",
    "The dataset is comprised of images taken during the Geminid meteor shower on the 14th of December 2015. Images were captured from a camera based at a station and a camera that was set up on the back of a truck (mobile) to capture images from multiple locations. The images were reviewed and annotated by astronomers to construct the dataset shown in Table 1.\n",
    "\n",
    "<p style=\"text-align:center;font-weight:bold\">Table 1: Dataset</p>\n",
    "\n",
    "| Camera      | Images    | Meteors\n",
    "|:------------|:----------|:--------|\n",
    "| mobile      | 1,561     | 48      |\n",
    "| station     | 1,330     | 24      |\n",
    "\n",
    "The image dimensions are 1840x1228 and a few cropped images of meteors is shown below.\n",
    "\n",
    "\n"
   ]
  },
  {
   "cell_type": "markdown",
   "metadata": {},
   "source": [
    "#### Synthetic data\n",
    "The dataset does not contain enough meteors to develop a robust and accurate machine learning model. Therefore, we have "
   ]
  },
  {
   "cell_type": "code",
   "execution_count": 21,
   "metadata": {
    "collapsed": true
   },
   "outputs": [],
   "source": []
  }
 ],
 "metadata": {
  "kernelspec": {
   "display_name": "Python 3",
   "language": "python",
   "name": "python3"
  },
  "language_info": {
   "codemirror_mode": {
    "name": "ipython",
    "version": 3
   },
   "file_extension": ".py",
   "mimetype": "text/x-python",
   "name": "python",
   "nbconvert_exporter": "python",
   "pygments_lexer": "ipython3",
   "version": "3.6.4"
  }
 },
 "nbformat": 4,
 "nbformat_minor": 1
}
